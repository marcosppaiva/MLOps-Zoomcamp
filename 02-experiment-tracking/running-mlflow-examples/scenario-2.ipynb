{
 "cells": [
  {
   "cell_type": "markdown",
   "id": "cec1e1a0",
   "metadata": {},
   "source": [
    "# Scenario 2: A cross-functional team with one data scientist working on an ML model"
   ]
  },
  {
   "cell_type": "markdown",
   "id": "9a31c9aa",
   "metadata": {},
   "source": [
    "MLflow setup:\n",
    "\n",
    "* tracking server: yes, local server\n",
    "* backend store: sqlite database\n",
    "* artifacts store: local filesystem\n",
    "\n",
    "The experiments can be explored locally by accessing the local tracking server.\n",
    "\n",
    "To run this example you need to launch the mlflow server locally by running the following command in your terminal:\n",
    "\n",
    "mlflow server --backend-store-uri sqlite:///backend.db"
   ]
  },
  {
   "cell_type": "code",
   "execution_count": 1,
   "id": "bc7981e8",
   "metadata": {},
   "outputs": [],
   "source": [
    "import mlflow\n",
    "\n",
    "from sklearn.linear_model import LogisticRegression\n",
    "from sklearn.datasets import load_iris\n",
    "from sklearn.metrics import accuracy_score"
   ]
  },
  {
   "cell_type": "code",
   "execution_count": 2,
   "id": "16590e6e",
   "metadata": {},
   "outputs": [],
   "source": [
    "mlflow.set_tracking_uri(\"http://127.0.0.1:5000\")"
   ]
  },
  {
   "cell_type": "code",
   "execution_count": 3,
   "id": "7586bef4",
   "metadata": {},
   "outputs": [
    {
     "ename": "MlflowException",
     "evalue": "Cannot set a deleted experiment 'my-experiment-1' as the active experiment. You can restore the experiment, or permanently delete the experiment to create a new one.",
     "output_type": "error",
     "traceback": [
      "\u001b[1;31m---------------------------------------------------------------------------\u001b[0m",
      "\u001b[1;31mMlflowException\u001b[0m                           Traceback (most recent call last)",
      "Cell \u001b[1;32mIn[3], line 1\u001b[0m\n\u001b[1;32m----> 1\u001b[0m \u001b[43mmlflow\u001b[49m\u001b[38;5;241;43m.\u001b[39;49m\u001b[43mset_experiment\u001b[49m\u001b[43m(\u001b[49m\u001b[38;5;124;43m'\u001b[39;49m\u001b[38;5;124;43mmy-experiment-1\u001b[39;49m\u001b[38;5;124;43m'\u001b[39;49m\u001b[43m)\u001b[49m\n",
      "File \u001b[1;32mE:\\Estudos\\Python\\MLOps-Zoomcamp\\.venv\\Lib\\site-packages\\mlflow\\tracking\\fluent.py:134\u001b[0m, in \u001b[0;36mset_experiment\u001b[1;34m(experiment_name, experiment_id)\u001b[0m\n\u001b[0;32m    128\u001b[0m         \u001b[38;5;28;01mraise\u001b[39;00m MlflowException(\n\u001b[0;32m    129\u001b[0m             message\u001b[38;5;241m=\u001b[39m\u001b[38;5;124mf\u001b[39m\u001b[38;5;124m\"\u001b[39m\u001b[38;5;124mExperiment with ID \u001b[39m\u001b[38;5;124m'\u001b[39m\u001b[38;5;132;01m{\u001b[39;00mexperiment_id\u001b[38;5;132;01m}\u001b[39;00m\u001b[38;5;124m'\u001b[39m\u001b[38;5;124m does not exist.\u001b[39m\u001b[38;5;124m\"\u001b[39m,\n\u001b[0;32m    130\u001b[0m             error_code\u001b[38;5;241m=\u001b[39mRESOURCE_DOES_NOT_EXIST,\n\u001b[0;32m    131\u001b[0m         )\n\u001b[0;32m    133\u001b[0m \u001b[38;5;28;01mif\u001b[39;00m experiment\u001b[38;5;241m.\u001b[39mlifecycle_stage \u001b[38;5;241m!=\u001b[39m LifecycleStage\u001b[38;5;241m.\u001b[39mACTIVE:\n\u001b[1;32m--> 134\u001b[0m     \u001b[38;5;28;01mraise\u001b[39;00m MlflowException(\n\u001b[0;32m    135\u001b[0m         message\u001b[38;5;241m=\u001b[39m(\n\u001b[0;32m    136\u001b[0m             \u001b[38;5;124m\"\u001b[39m\u001b[38;5;124mCannot set a deleted experiment \u001b[39m\u001b[38;5;124m'\u001b[39m\u001b[38;5;132;01m%s\u001b[39;00m\u001b[38;5;124m'\u001b[39m\u001b[38;5;124m as the active experiment. \u001b[39m\u001b[38;5;124m\"\u001b[39m\n\u001b[0;32m    137\u001b[0m             \u001b[38;5;124m\"\u001b[39m\u001b[38;5;124mYou can restore the experiment, or permanently delete the \u001b[39m\u001b[38;5;124m\"\u001b[39m\n\u001b[0;32m    138\u001b[0m             \u001b[38;5;124m\"\u001b[39m\u001b[38;5;124mexperiment to create a new one.\u001b[39m\u001b[38;5;124m\"\u001b[39m \u001b[38;5;241m%\u001b[39m experiment\u001b[38;5;241m.\u001b[39mname\n\u001b[0;32m    139\u001b[0m         ),\n\u001b[0;32m    140\u001b[0m         error_code\u001b[38;5;241m=\u001b[39mINVALID_PARAMETER_VALUE,\n\u001b[0;32m    141\u001b[0m     )\n\u001b[0;32m    143\u001b[0m \u001b[38;5;28;01mglobal\u001b[39;00m _active_experiment_id\n\u001b[0;32m    144\u001b[0m _active_experiment_id \u001b[38;5;241m=\u001b[39m experiment\u001b[38;5;241m.\u001b[39mexperiment_id\n",
      "\u001b[1;31mMlflowException\u001b[0m: Cannot set a deleted experiment 'my-experiment-1' as the active experiment. You can restore the experiment, or permanently delete the experiment to create a new one."
     ]
    }
   ],
   "source": [
    "mlflow.set_experiment('my-experiment-1')"
   ]
  },
  {
   "cell_type": "code",
   "execution_count": 4,
   "id": "61afefdb",
   "metadata": {},
   "outputs": [
    {
     "name": "stdout",
     "output_type": "stream",
     "text": [
      "default artifacts URI: 'mlflow-artifacts:/0/beca8e073ce54cb19c666e989e19d26f/artifacts'\n"
     ]
    },
    {
     "name": "stderr",
     "output_type": "stream",
     "text": [
      "E:\\Estudos\\Python\\MLOps-Zoomcamp\\.venv\\Lib\\site-packages\\_distutils_hack\\__init__.py:33: UserWarning: Setuptools is replacing distutils.\n",
      "  warnings.warn(\"Setuptools is replacing distutils.\")\n"
     ]
    }
   ],
   "source": [
    "with mlflow.start_run() as run:\n",
    "    \n",
    "    X,y = load_iris(return_X_y=True)\n",
    "    \n",
    "    params = {\"C\": 0.1, \"random_state\": 42}\n",
    "    mlflow.log_params(params)\n",
    "    \n",
    "    lr = LogisticRegression(**params).fit(X, y)\n",
    "    y_pred = lr.predict(X)\n",
    "    \n",
    "    mlflow.log_metric(\"accuracy\", accuracy_score(y, y_pred))\n",
    "    \n",
    "    mlflow.sklearn.log_model(lr, artifact_path='models')\n",
    "    print(f\"default artifacts URI: '{mlflow.get_artifact_uri()}'\")\n"
   ]
  },
  {
   "cell_type": "code",
   "execution_count": 5,
   "id": "f50d853f",
   "metadata": {},
   "outputs": [
    {
     "data": {
      "text/plain": [
       "[<Experiment: artifact_location='mlflow-artifacts:/0', creation_time=1685271394140, experiment_id='0', last_update_time=1685271394140, lifecycle_stage='active', name='Default', tags={}>]"
      ]
     },
     "execution_count": 5,
     "metadata": {},
     "output_type": "execute_result"
    }
   ],
   "source": [
    "mlflow.search_experiments()"
   ]
  },
  {
   "cell_type": "markdown",
   "id": "c0796699",
   "metadata": {},
   "source": [
    "# Interacting with the model registry"
   ]
  },
  {
   "cell_type": "code",
   "execution_count": 7,
   "id": "d607961c",
   "metadata": {},
   "outputs": [],
   "source": [
    "from mlflow.tracking import MlflowClient\n"
   ]
  },
  {
   "cell_type": "code",
   "execution_count": 8,
   "id": "91ec4295",
   "metadata": {},
   "outputs": [],
   "source": [
    "client = MlflowClient(\"http://127.0.0.1:5000\")"
   ]
  },
  {
   "cell_type": "code",
   "execution_count": 9,
   "id": "e528c933",
   "metadata": {},
   "outputs": [
    {
     "data": {
      "text/plain": [
       "[]"
      ]
     },
     "execution_count": 9,
     "metadata": {},
     "output_type": "execute_result"
    }
   ],
   "source": [
    "client.search_registered_models()"
   ]
  },
  {
   "cell_type": "code",
   "execution_count": 19,
   "id": "b715ff42",
   "metadata": {},
   "outputs": [],
   "source": [
    "run_id = run.info.run_id"
   ]
  },
  {
   "cell_type": "code",
   "execution_count": 20,
   "id": "0ca72a6e",
   "metadata": {},
   "outputs": [
    {
     "name": "stderr",
     "output_type": "stream",
     "text": [
      "Successfully registered model 'iris-classifier'.\n",
      "2023/05/28 12:06:55 INFO mlflow.tracking._model_registry.client: Waiting up to 300 seconds for model version to finish creation. Model name: iris-classifier, version 1\n",
      "Created version '1' of model 'iris-classifier'.\n"
     ]
    },
    {
     "data": {
      "text/plain": [
       "<ModelVersion: aliases=[], creation_timestamp=1685272015508, current_stage='None', description='', last_updated_timestamp=1685272015508, name='iris-classifier', run_id='beca8e073ce54cb19c666e989e19d26f', run_link='', source='mlflow-artifacts:/0/beca8e073ce54cb19c666e989e19d26f/artifacts/models', status='READY', status_message='', tags={}, user_id='', version='1'>"
      ]
     },
     "execution_count": 20,
     "metadata": {},
     "output_type": "execute_result"
    }
   ],
   "source": [
    "mlflow.register_model(model_uri=f\"runs:/{run_id}/models\", name=\"iris-classifier\")"
   ]
  },
  {
   "cell_type": "code",
   "execution_count": null,
   "id": "8f2722d6",
   "metadata": {},
   "outputs": [],
   "source": []
  }
 ],
 "metadata": {
  "kernelspec": {
   "display_name": "Python 3 (ipykernel)",
   "language": "python",
   "name": "python3"
  },
  "language_info": {
   "codemirror_mode": {
    "name": "ipython",
    "version": 3
   },
   "file_extension": ".py",
   "mimetype": "text/x-python",
   "name": "python",
   "nbconvert_exporter": "python",
   "pygments_lexer": "ipython3",
   "version": "3.11.0"
  }
 },
 "nbformat": 4,
 "nbformat_minor": 5
}
