{
 "cells": [
  {
   "cell_type": "markdown",
   "id": "959a4ffe",
   "metadata": {},
   "source": [
    "# Scenario 1: A single data scientist participanting in an ML competition"
   ]
  },
  {
   "cell_type": "markdown",
   "id": "9ca9803b",
   "metadata": {},
   "source": [
    "MLflow setup:\n",
    "\n",
    "* Tracking server: no\n",
    "* Backend store: local filesystem\n",
    "* Artifacts store: local filesystem\n",
    "\n",
    "The experiments can be explored locally by lauching the MLFlow UI."
   ]
  },
  {
   "cell_type": "code",
   "execution_count": 1,
   "id": "c169d700",
   "metadata": {},
   "outputs": [],
   "source": [
    "import mlflow"
   ]
  },
  {
   "cell_type": "code",
   "execution_count": 2,
   "id": "6ab6bb12",
   "metadata": {},
   "outputs": [
    {
     "name": "stdout",
     "output_type": "stream",
     "text": [
      "tracking UI: file:///E:/Estudos/Python/MLOps-Zoomcamp/02-experiment-tracking/running-mlflow-examples/mlruns\n"
     ]
    }
   ],
   "source": [
    "print(f'tracking UI: {mlflow.get_tracking_uri()}')"
   ]
  },
  {
   "cell_type": "code",
   "execution_count": 5,
   "id": "2de5d406",
   "metadata": {},
   "outputs": [
    {
     "data": {
      "text/plain": [
       "[<Experiment: artifact_location='file:///E:/Estudos/Python/MLOps-Zoomcamp/02-experiment-tracking/running-mlflow-examples/mlruns/0', creation_time=1685269999397, experiment_id='0', last_update_time=1685269999397, lifecycle_stage='active', name='Default', tags={}>]"
      ]
     },
     "execution_count": 5,
     "metadata": {},
     "output_type": "execute_result"
    }
   ],
   "source": [
    "mlflow.search_experiments()"
   ]
  },
  {
   "cell_type": "markdown",
   "id": "f3487824",
   "metadata": {},
   "source": [
    "# Creating an experiment and logging a new run"
   ]
  },
  {
   "cell_type": "code",
   "execution_count": 6,
   "id": "40536a09",
   "metadata": {},
   "outputs": [],
   "source": [
    "from sklearn.linear_model import LogisticRegression\n",
    "from sklearn.datasets import load_iris\n",
    "from sklearn.metrics import accuracy_score"
   ]
  },
  {
   "cell_type": "code",
   "execution_count": 7,
   "id": "5806bf54",
   "metadata": {},
   "outputs": [
    {
     "name": "stderr",
     "output_type": "stream",
     "text": [
      "2023/05/28 11:40:41 INFO mlflow.tracking.fluent: Experiment with name 'my-experiment-1' does not exist. Creating a new experiment.\n"
     ]
    },
    {
     "data": {
      "text/plain": [
       "<Experiment: artifact_location='file:///E:/Estudos/Python/MLOps-Zoomcamp/02-experiment-tracking/running-mlflow-examples/mlruns/982812750187195081', creation_time=1685270441070, experiment_id='982812750187195081', last_update_time=1685270441070, lifecycle_stage='active', name='my-experiment-1', tags={}>"
      ]
     },
     "execution_count": 7,
     "metadata": {},
     "output_type": "execute_result"
    }
   ],
   "source": [
    "mlflow.set_experiment('my-experiment-1')"
   ]
  },
  {
   "cell_type": "code",
   "execution_count": 8,
   "id": "5ed95125",
   "metadata": {},
   "outputs": [
    {
     "name": "stdout",
     "output_type": "stream",
     "text": [
      "default artifacts URI: file:///E:/Estudos/Python/MLOps-Zoomcamp/02-experiment-tracking/running-mlflow-examples/mlruns/982812750187195081/8dd34c1bb7584193aa9453df66602efa/artifacts\n"
     ]
    },
    {
     "name": "stderr",
     "output_type": "stream",
     "text": [
      "E:\\Estudos\\Python\\MLOps-Zoomcamp\\.venv\\Lib\\site-packages\\_distutils_hack\\__init__.py:33: UserWarning: Setuptools is replacing distutils.\n",
      "  warnings.warn(\"Setuptools is replacing distutils.\")\n"
     ]
    }
   ],
   "source": [
    "with mlflow.start_run():\n",
    "    X, y = load_iris(return_X_y=True)\n",
    "    \n",
    "    params = {\"C\": 0.1, \"random_state\": 42}\n",
    "    mlflow.log_params(params)\n",
    "    \n",
    "    lr = LogisticRegression(**params).fit(X, y)\n",
    "    y_pred = lr.predict(X)\n",
    "    mlflow.log_metric(\"accuracy\", accuracy_score(y, y_pred))\n",
    "    \n",
    "    mlflow.sklearn.log_model(lr, artifact_path=\"models\")\n",
    "    print(f\"default artifacts URI: {mlflow.get_artifact_uri()}\")\n",
    "    "
   ]
  },
  {
   "cell_type": "code",
   "execution_count": 9,
   "id": "89fe10df",
   "metadata": {},
   "outputs": [
    {
     "data": {
      "text/plain": [
       "[<Experiment: artifact_location='file:///E:/Estudos/Python/MLOps-Zoomcamp/02-experiment-tracking/running-mlflow-examples/mlruns/982812750187195081', creation_time=1685270441070, experiment_id='982812750187195081', last_update_time=1685270441070, lifecycle_stage='active', name='my-experiment-1', tags={}>,\n",
       " <Experiment: artifact_location='file:///E:/Estudos/Python/MLOps-Zoomcamp/02-experiment-tracking/running-mlflow-examples/mlruns/0', creation_time=1685269999397, experiment_id='0', last_update_time=1685269999397, lifecycle_stage='active', name='Default', tags={}>]"
      ]
     },
     "execution_count": 9,
     "metadata": {},
     "output_type": "execute_result"
    }
   ],
   "source": [
    "mlflow.search_experiments()"
   ]
  },
  {
   "cell_type": "markdown",
   "id": "26beb9bd",
   "metadata": {},
   "source": [
    "# Interacting with the model registry"
   ]
  },
  {
   "cell_type": "code",
   "execution_count": 10,
   "id": "d9a54d51",
   "metadata": {},
   "outputs": [],
   "source": [
    "from mlflow.tracking import MlflowClient\n",
    "from mlflow.exceptions import MlflowException"
   ]
  },
  {
   "cell_type": "code",
   "execution_count": 11,
   "id": "0ce5de2c",
   "metadata": {},
   "outputs": [],
   "source": [
    "client = MlflowClient()"
   ]
  },
  {
   "cell_type": "code",
   "execution_count": 16,
   "id": "4a9820fd",
   "metadata": {},
   "outputs": [
    {
     "name": "stdout",
     "output_type": "stream",
     "text": [
      "[]\n"
     ]
    }
   ],
   "source": [
    "# Como estamos sem tracking server não temos acesso ao register models\n",
    "try:\n",
    "    print(client.search_registered_models())\n",
    "except MlflowException:\n",
    "    print(\"It's not possible to access the model registry :(\")"
   ]
  },
  {
   "cell_type": "code",
   "execution_count": null,
   "id": "ecc27492",
   "metadata": {},
   "outputs": [],
   "source": []
  }
 ],
 "metadata": {
  "kernelspec": {
   "display_name": "Python 3 (ipykernel)",
   "language": "python",
   "name": "python3"
  },
  "language_info": {
   "codemirror_mode": {
    "name": "ipython",
    "version": 3
   },
   "file_extension": ".py",
   "mimetype": "text/x-python",
   "name": "python",
   "nbconvert_exporter": "python",
   "pygments_lexer": "ipython3",
   "version": "3.11.0"
  }
 },
 "nbformat": 4,
 "nbformat_minor": 5
}
