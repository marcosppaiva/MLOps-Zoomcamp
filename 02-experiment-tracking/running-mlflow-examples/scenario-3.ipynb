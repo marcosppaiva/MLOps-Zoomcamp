{
 "cells": [
  {
   "cell_type": "markdown",
   "id": "650925dc",
   "metadata": {},
   "source": [
    "# Scenario 3: Multiple data scientists working on multiple ML models"
   ]
  },
  {
   "cell_type": "markdown",
   "id": "2e9ca900",
   "metadata": {},
   "source": [
    "MLflow setup:\n",
    "\n",
    "* Tracking server: yes, remote server (EC2).\n",
    "* Backend store: postgresql database.\n",
    "* Artifacts store: s3 bucket.\n",
    "\n",
    "The experiments can be explored by accessing the remote server.\n",
    "\n",
    "The exampe uses AWS to host a remote server. In order to run the example you'll need an AWS account. Follow the steps described in the file mlflow_on_aws.md to create a new AWS account and launch the tracking server."
   ]
  },
  {
   "cell_type": "code",
   "execution_count": 1,
   "id": "333facb4",
   "metadata": {},
   "outputs": [],
   "source": [
    "import mlflow\n",
    "import os"
   ]
  },
  {
   "cell_type": "code",
   "execution_count": null,
   "id": "20d1cbd8",
   "metadata": {},
   "outputs": [],
   "source": []
  }
 ],
 "metadata": {
  "kernelspec": {
   "display_name": "Python 3 (ipykernel)",
   "language": "python",
   "name": "python3"
  },
  "language_info": {
   "codemirror_mode": {
    "name": "ipython",
    "version": 3
   },
   "file_extension": ".py",
   "mimetype": "text/x-python",
   "name": "python",
   "nbconvert_exporter": "python",
   "pygments_lexer": "ipython3",
   "version": "3.11.0"
  }
 },
 "nbformat": 4,
 "nbformat_minor": 5
}
