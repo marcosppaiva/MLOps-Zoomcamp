{
 "cells": [
  {
   "cell_type": "code",
   "execution_count": 10,
   "id": "2366c805",
   "metadata": {},
   "outputs": [],
   "source": [
    "import mlflow\n",
    "from mlflow import MlflowClient\n",
    "from mlflow.entities import ViewType"
   ]
  },
  {
   "cell_type": "code",
   "execution_count": 2,
   "id": "ae730d44",
   "metadata": {},
   "outputs": [],
   "source": [
    "mlflow.set_tracking_uri('http://127.0.0.1:5000')"
   ]
  },
  {
   "cell_type": "code",
   "execution_count": 4,
   "id": "639aaee7",
   "metadata": {},
   "outputs": [],
   "source": [
    "EXPERIMENT_NAME = 'random-forest-hyperopt'"
   ]
  },
  {
   "cell_type": "code",
   "execution_count": 6,
   "id": "cb92f6e6",
   "metadata": {},
   "outputs": [],
   "source": [
    "client = MlflowClient()"
   ]
  },
  {
   "cell_type": "code",
   "execution_count": 7,
   "id": "920a430d",
   "metadata": {},
   "outputs": [],
   "source": [
    "experiment = client.get_experiment_by_name(EXPERIMENT_NAME)"
   ]
  },
  {
   "cell_type": "code",
   "execution_count": 8,
   "id": "f73778b8",
   "metadata": {},
   "outputs": [
    {
     "data": {
      "text/plain": [
       "'1'"
      ]
     },
     "execution_count": 8,
     "metadata": {},
     "output_type": "execute_result"
    }
   ],
   "source": [
    "experiment.experiment_id"
   ]
  },
  {
   "cell_type": "code",
   "execution_count": 23,
   "id": "89d8c698",
   "metadata": {},
   "outputs": [],
   "source": [
    " best_run = client.search_runs(\n",
    "        experiment_ids=experiment.experiment_id,\n",
    "        filter_string = '', # example: metrics.rmse < 6\n",
    "        run_view_type = ViewType.ACTIVE_ONLY,\n",
    "        order_by = [\"metrics.rmse ASC\"]\n",
    "    )[0]"
   ]
  },
  {
   "cell_type": "code",
   "execution_count": 25,
   "id": "61462665",
   "metadata": {},
   "outputs": [
    {
     "data": {
      "text/plain": [
       "'011bad4f98484f3bbd42ff706153a8c3'"
      ]
     },
     "execution_count": 25,
     "metadata": {},
     "output_type": "execute_result"
    }
   ],
   "source": [
    "best_run.info.run_id"
   ]
  },
  {
   "cell_type": "code",
   "execution_count": null,
   "id": "9c36b55f",
   "metadata": {},
   "outputs": [],
   "source": []
  }
 ],
 "metadata": {
  "kernelspec": {
   "display_name": "Python 3 (ipykernel)",
   "language": "python",
   "name": "python3"
  },
  "language_info": {
   "codemirror_mode": {
    "name": "ipython",
    "version": 3
   },
   "file_extension": ".py",
   "mimetype": "text/x-python",
   "name": "python",
   "nbconvert_exporter": "python",
   "pygments_lexer": "ipython3",
   "version": "3.11.0"
  }
 },
 "nbformat": 4,
 "nbformat_minor": 5
}
