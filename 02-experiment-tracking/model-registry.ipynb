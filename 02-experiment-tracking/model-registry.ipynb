{
 "cells": [
  {
   "cell_type": "code",
   "execution_count": 42,
   "metadata": {},
   "outputs": [],
   "source": [
    "import mlflow\n",
    "import pandas as pd\n",
    "import pickle\n",
    "\n",
    "from mlflow.tracking import MlflowClient\n",
    "from mlflow.entities import ViewType\n",
    "from datetime import datetime\n",
    "\n",
    "from sklearn.metrics import mean_squared_error"
   ]
  },
  {
   "cell_type": "code",
   "execution_count": 9,
   "metadata": {},
   "outputs": [],
   "source": [
    "MLFLOW_TRACKING_URI = \"sqlite:///mlflow.db\""
   ]
  },
  {
   "cell_type": "code",
   "execution_count": 10,
   "metadata": {},
   "outputs": [],
   "source": [
    "client = MlflowClient(tracking_uri=MLFLOW_TRACKING_URI)"
   ]
  },
  {
   "cell_type": "code",
   "execution_count": 13,
   "metadata": {},
   "outputs": [],
   "source": [
    "runs = client.search_runs(\n",
    "    experiment_ids = 1,\n",
    "    filter_string = '', # example: metrics.rmse < 6\n",
    "    run_view_type = ViewType.ACTIVE_ONLY,\n",
    "    max_results = 5,\n",
    "    order_by = [\"metrics.rmse ASC\"]\n",
    ")"
   ]
  },
  {
   "cell_type": "code",
   "execution_count": 14,
   "metadata": {},
   "outputs": [
    {
     "data": {
      "text/plain": [
       "[<Run: data=<RunData: metrics={'rmse': 4.953331649346428}, params={'learning_rate': '0.052171063680732786',\n",
       "  'max_depth': '43',\n",
       "  'min_child_weight': '3.873525382081908',\n",
       "  'objective': 'reg:linear',\n",
       "  'reg_alpha': '0.02908096307849183',\n",
       "  'reg_lambda': '0.005592226647424518',\n",
       "  'seed': '42'}, tags={'mlflow.runName': 'bouncy-moth-75',\n",
       "  'mlflow.source.git.commit': '87ebffcf1a94f4645767717b8d2774afc2aa1ef0',\n",
       "  'mlflow.source.name': 'c:\\\\Users\\\\marcospp\\\\Documents\\\\MarcosPaulo\\\\Estudos\\\\MLOps-Zoomcamp\\\\.venv\\\\Lib\\\\site-packages\\\\ipykernel_launcher.py',\n",
       "  'mlflow.source.type': 'LOCAL',\n",
       "  'mlflow.user': 'marcospp',\n",
       "  'model': 'xgboost'}>, info=<RunInfo: artifact_uri='file:///c:/Users/marcospp/Documents/MarcosPaulo/Estudos/MLOps-Zoomcamp/02-experiment-tracking/mlruns/1/3bcfa63a5c164e5da6e8a9c98b327ee4/artifacts', end_time=1684865078715, experiment_id='1', lifecycle_stage='active', run_id='3bcfa63a5c164e5da6e8a9c98b327ee4', run_name='bouncy-moth-75', run_uuid='3bcfa63a5c164e5da6e8a9c98b327ee4', start_time=1684862193835, status='FINISHED', user_id='marcospp'>>,\n",
       " <Run: data=<RunData: metrics={'rmse': 4.972482476665791}, params={'learning_rate': '0.12298619469610234',\n",
       "  'max_depth': '46',\n",
       "  'min_child_weight': '0.454613109512657',\n",
       "  'objective': 'reg:linear',\n",
       "  'reg_alpha': '0.06389096845455339',\n",
       "  'reg_lambda': '0.006097230453172799',\n",
       "  'seed': '42'}, tags={'mlflow.runName': 'delicate-hare-835',\n",
       "  'mlflow.source.git.commit': '87ebffcf1a94f4645767717b8d2774afc2aa1ef0',\n",
       "  'mlflow.source.name': 'c:\\\\Users\\\\marcospp\\\\Documents\\\\MarcosPaulo\\\\Estudos\\\\MLOps-Zoomcamp\\\\.venv\\\\Lib\\\\site-packages\\\\ipykernel_launcher.py',\n",
       "  'mlflow.source.type': 'LOCAL',\n",
       "  'mlflow.user': 'marcospp',\n",
       "  'model': 'xgboost'}>, info=<RunInfo: artifact_uri='file:///c:/Users/marcospp/Documents/MarcosPaulo/Estudos/MLOps-Zoomcamp/02-experiment-tracking/mlruns/1/eeb204e0081e48b1a31074fa16bcb4ae/artifacts', end_time=1684862193774, experiment_id='1', lifecycle_stage='active', run_id='eeb204e0081e48b1a31074fa16bcb4ae', run_name='delicate-hare-835', run_uuid='eeb204e0081e48b1a31074fa16bcb4ae', start_time=1684859106659, status='FINISHED', user_id='marcospp'>>,\n",
       " <Run: data=<RunData: metrics={'best_iteration': 99.0,\n",
       "  'rmse': 5.037930337985029,\n",
       "  'stopped_iteration': 99.0,\n",
       "  'validation-rmse': 5.037930338893181}, params={'custom_metric': 'None',\n",
       "  'early_stopping_rounds': '10',\n",
       "  'learning_rate': '0.052171063680732786',\n",
       "  'max_depth': '43',\n",
       "  'maximize': 'None',\n",
       "  'min_child_weight': '3.873525382081908',\n",
       "  'num_boost_round': '100',\n",
       "  'objective': 'reg:linear',\n",
       "  'reg_alpha': '0.02908096307849183',\n",
       "  'reg_lambda': '0.005592226647424518',\n",
       "  'seed': '42',\n",
       "  'verbose_eval': 'True'}, tags={'mlflow.log-model.history': '[{\"run_id\": \"71c8e57657f046519fc007e11d7e33cf\", '\n",
       "                              '\"artifact_path\": \"model\", \"utc_time_created\": '\n",
       "                              '\"2023-05-24 10:31:10.192150\", \"flavors\": '\n",
       "                              '{\"python_function\": {\"loader_module\": '\n",
       "                              '\"mlflow.xgboost\", \"python_version\": \"3.11.0\", '\n",
       "                              '\"data\": \"model.xgb\", \"env\": {\"conda\": '\n",
       "                              '\"conda.yaml\", \"virtualenv\": \"python_env.yaml\"}}, '\n",
       "                              '\"xgboost\": {\"xgb_version\": \"1.7.5\", \"data\": '\n",
       "                              '\"model.xgb\", \"model_class\": '\n",
       "                              '\"xgboost.core.Booster\", \"model_format\": \"xgb\", '\n",
       "                              '\"code\": null}}, \"model_uuid\": '\n",
       "                              '\"4937b0b432b340f6abd03a5048ac853b\", '\n",
       "                              '\"mlflow_version\": \"2.3.2\"}, {\"run_id\": '\n",
       "                              '\"71c8e57657f046519fc007e11d7e33cf\", '\n",
       "                              '\"artifact_path\": \"models_mlflow\", '\n",
       "                              '\"utc_time_created\": \"2023-05-24 '\n",
       "                              '10:32:27.184230\", \"flavors\": {\"python_function\": '\n",
       "                              '{\"loader_module\": \"mlflow.xgboost\", '\n",
       "                              '\"python_version\": \"3.11.0\", \"data\": \"model.xgb\", '\n",
       "                              '\"env\": {\"conda\": \"conda.yaml\", \"virtualenv\": '\n",
       "                              '\"python_env.yaml\"}}, \"xgboost\": {\"xgb_version\": '\n",
       "                              '\"1.7.5\", \"data\": \"model.xgb\", \"model_class\": '\n",
       "                              '\"xgboost.core.Booster\", \"model_format\": \"xgb\", '\n",
       "                              '\"code\": null}}, \"model_uuid\": '\n",
       "                              '\"27b4043d85fa40f99089d2851d4d8716\", '\n",
       "                              '\"mlflow_version\": \"2.3.2\"}]',\n",
       "  'mlflow.runName': 'bouncy-crane-823',\n",
       "  'mlflow.source.git.commit': '87ebffcf1a94f4645767717b8d2774afc2aa1ef0',\n",
       "  'mlflow.source.name': 'c:\\\\Users\\\\marcospp\\\\Documents\\\\MarcosPaulo\\\\Estudos\\\\MLOps-Zoomcamp\\\\.venv\\\\Lib\\\\site-packages\\\\ipykernel_launcher.py',\n",
       "  'mlflow.source.type': 'LOCAL',\n",
       "  'mlflow.user': 'marcospp'}>, info=<RunInfo: artifact_uri='file:///c:/Users/marcospp/Documents/MarcosPaulo/Estudos/MLOps-Zoomcamp/02-experiment-tracking/mlruns/1/71c8e57657f046519fc007e11d7e33cf/artifacts', end_time=1684924350458, experiment_id='1', lifecycle_stage='active', run_id='71c8e57657f046519fc007e11d7e33cf', run_name='bouncy-crane-823', run_uuid='71c8e57657f046519fc007e11d7e33cf', start_time=1684923683973, status='FINISHED', user_id='marcospp'>>,\n",
       " <Run: data=<RunData: metrics={'rmse': 5.408967941450919}, params={'learning_rate': '0.052171063680732786',\n",
       "  'max_depth': '43',\n",
       "  'min_child_weight': '3.873525382081908',\n",
       "  'objective': 'reg:linear',\n",
       "  'reg_alpha': '0.02908096307849183',\n",
       "  'reg_lambda': '0.005592226647424518',\n",
       "  'seed': '42'}, tags={'mlflow.log-model.history': '[{\"run_id\": \"27c14687bceb401bad73fc5d2085d735\", '\n",
       "                              '\"artifact_path\": \"models_mlflow\", '\n",
       "                              '\"utc_time_created\": \"2023-05-24 '\n",
       "                              '15:31:11.079732\", \"flavors\": {\"python_function\": '\n",
       "                              '{\"loader_module\": \"mlflow.xgboost\", '\n",
       "                              '\"python_version\": \"3.11.0\", \"data\": \"model.xgb\", '\n",
       "                              '\"env\": {\"conda\": \"conda.yaml\", \"virtualenv\": '\n",
       "                              '\"python_env.yaml\"}}, \"xgboost\": {\"xgb_version\": '\n",
       "                              '\"1.7.5\", \"data\": \"model.xgb\", \"model_class\": '\n",
       "                              '\"xgboost.core.Booster\", \"model_format\": \"xgb\", '\n",
       "                              '\"code\": null}}, \"model_uuid\": '\n",
       "                              '\"f9a2f6653fe6443db89403f876bbde25\", '\n",
       "                              '\"mlflow_version\": \"2.3.2\"}]',\n",
       "  'mlflow.runName': 'hilarious-squid-736',\n",
       "  'mlflow.source.git.commit': '87ebffcf1a94f4645767717b8d2774afc2aa1ef0',\n",
       "  'mlflow.source.name': 'c:\\\\Users\\\\marcospp\\\\Documents\\\\MarcosPaulo\\\\Estudos\\\\MLOps-Zoomcamp\\\\.venv\\\\Lib\\\\site-packages\\\\ipykernel_launcher.py',\n",
       "  'mlflow.source.type': 'LOCAL',\n",
       "  'mlflow.user': 'marcospp'}>, info=<RunInfo: artifact_uri='file:///c:/Users/marcospp/Documents/MarcosPaulo/Estudos/MLOps-Zoomcamp/02-experiment-tracking/mlruns/1/27c14687bceb401bad73fc5d2085d735/artifacts', end_time=1684942275157, experiment_id='1', lifecycle_stage='active', run_id='27c14687bceb401bad73fc5d2085d735', run_name='hilarious-squid-736', run_uuid='27c14687bceb401bad73fc5d2085d735', start_time=1684941881275, status='FINISHED', user_id='marcospp'>>,\n",
       " <Run: data=<RunData: metrics={'rmse': 9.374921127169834}, params={'alpha': '0.01',\n",
       "  'train-data-path': '../data/yellow_tripdata_2022-01.parquet',\n",
       "  'valid-data-path': '../data/yellow_tripdata_2022-02.parquet'}, tags={'developer': 'marcospereira',\n",
       "  'mlflow.runName': 'mercurial-sow-174',\n",
       "  'mlflow.source.git.commit': '87ebffcf1a94f4645767717b8d2774afc2aa1ef0',\n",
       "  'mlflow.source.name': 'c:\\\\Users\\\\marcospp\\\\Documents\\\\MarcosPaulo\\\\Estudos\\\\MLOps-Zoomcamp\\\\.venv\\\\Lib\\\\site-packages\\\\ipykernel_launcher.py',\n",
       "  'mlflow.source.type': 'LOCAL',\n",
       "  'mlflow.user': 'marcospp'}>, info=<RunInfo: artifact_uri='file:///c:/Users/marcospp/Documents/MarcosPaulo/Estudos/MLOps-Zoomcamp/02-experiment-tracking/mlruns/1/4f7c2ffd37154f9a88e760c8da0cfa6d/artifacts', end_time=1684855040606, experiment_id='1', lifecycle_stage='active', run_id='4f7c2ffd37154f9a88e760c8da0cfa6d', run_name='mercurial-sow-174', run_uuid='4f7c2ffd37154f9a88e760c8da0cfa6d', start_time=1684854746236, status='FINISHED', user_id='marcospp'>>]"
      ]
     },
     "execution_count": 14,
     "metadata": {},
     "output_type": "execute_result"
    }
   ],
   "source": [
    "runs"
   ]
  },
  {
   "cell_type": "code",
   "execution_count": 18,
   "metadata": {},
   "outputs": [
    {
     "name": "stdout",
     "output_type": "stream",
     "text": [
      "run id: 3bcfa63a5c164e5da6e8a9c98b327ee4, rmse: 4.9533\n",
      "run id: eeb204e0081e48b1a31074fa16bcb4ae, rmse: 4.9725\n",
      "run id: 71c8e57657f046519fc007e11d7e33cf, rmse: 5.0379\n",
      "run id: 27c14687bceb401bad73fc5d2085d735, rmse: 5.4090\n",
      "run id: 4f7c2ffd37154f9a88e760c8da0cfa6d, rmse: 9.3749\n"
     ]
    }
   ],
   "source": [
    "for run in runs:\n",
    "    print(f'run id: {run.info.run_id}, rmse: {run.data.metrics[\"rmse\"]:.4f}')"
   ]
  },
  {
   "cell_type": "code",
   "execution_count": 20,
   "metadata": {},
   "outputs": [],
   "source": [
    "mlflow.set_tracking_uri(MLFLOW_TRACKING_URI)"
   ]
  },
  {
   "cell_type": "code",
   "execution_count": 22,
   "metadata": {},
   "outputs": [
    {
     "name": "stderr",
     "output_type": "stream",
     "text": [
      "Registered model 'nyc-taxi-regressor' already exists. Creating a new version of this model...\n",
      "2023/05/26 11:21:43 INFO mlflow.tracking._model_registry.client: Waiting up to 300 seconds for model version to finish creation. Model name: nyc-taxi-regressor, version 3\n",
      "Created version '3' of model 'nyc-taxi-regressor'.\n"
     ]
    },
    {
     "data": {
      "text/plain": [
       "<ModelVersion: aliases=[], creation_timestamp=1685096503410, current_stage='None', description=None, last_updated_timestamp=1685096503410, name='nyc-taxi-regressor', run_id='3bcfa63a5c164e5da6e8a9c98b327ee4', run_link=None, source='file:///c:/Users/marcospp/Documents/MarcosPaulo/Estudos/MLOps-Zoomcamp/02-experiment-tracking/mlruns/1/3bcfa63a5c164e5da6e8a9c98b327ee4/artifacts/model', status='READY', status_message=None, tags={}, user_id=None, version=3>"
      ]
     },
     "execution_count": 22,
     "metadata": {},
     "output_type": "execute_result"
    }
   ],
   "source": [
    "run_id = '3bcfa63a5c164e5da6e8a9c98b327ee4'\n",
    "model_uri = f'runs:/{run_id}/model'\n",
    "mlflow.register_model(model_uri=model_uri, name='nyc-taxi-regressor')"
   ]
  },
  {
   "cell_type": "code",
   "execution_count": 58,
   "metadata": {},
   "outputs": [],
   "source": [
    "model_name = 'nyc-taxi-regressor'\n",
    "latest_version = client.get_latest_versions(name=model_name)"
   ]
  },
  {
   "cell_type": "code",
   "execution_count": 59,
   "metadata": {},
   "outputs": [
    {
     "name": "stdout",
     "output_type": "stream",
     "text": [
      "version: 1, stage: Production\n",
      "version: 3, stage: Staging\n"
     ]
    }
   ],
   "source": [
    "for version in latest_version:\n",
    "    print(f'version: {version.version}, stage: {version.current_stage}')"
   ]
  },
  {
   "cell_type": "code",
   "execution_count": 37,
   "metadata": {},
   "outputs": [],
   "source": [
    "model_version = 3\n",
    "new_stage = 'Staging'"
   ]
  },
  {
   "cell_type": "code",
   "execution_count": 32,
   "metadata": {},
   "outputs": [
    {
     "data": {
      "text/plain": [
       "<ModelVersion: aliases=[], creation_timestamp=1685096503410, current_stage='Staging', description=None, last_updated_timestamp=1685114054356, name='nyc-taxi-regressor', run_id='3bcfa63a5c164e5da6e8a9c98b327ee4', run_link=None, source='file:///c:/Users/marcospp/Documents/MarcosPaulo/Estudos/MLOps-Zoomcamp/02-experiment-tracking/mlruns/1/3bcfa63a5c164e5da6e8a9c98b327ee4/artifacts/model', status='READY', status_message=None, tags={}, user_id=None, version=3>"
      ]
     },
     "execution_count": 32,
     "metadata": {},
     "output_type": "execute_result"
    }
   ],
   "source": [
    "\n",
    "client.transition_model_version_stage(\n",
    "    name = model_name,\n",
    "    version = model_version,\n",
    "    stage = new_stage,\n",
    "    archive_existing_versions=False\n",
    ")"
   ]
  },
  {
   "cell_type": "code",
   "execution_count": 41,
   "metadata": {},
   "outputs": [
    {
     "data": {
      "text/plain": [
       "<ModelVersion: aliases=[], creation_timestamp=1685096503410, current_stage='Staging', description='The model version 3 was transitioned to Staging on 2023-05-26 16:22:23.124409', last_updated_timestamp=1685114543125, name='nyc-taxi-regressor', run_id='3bcfa63a5c164e5da6e8a9c98b327ee4', run_link=None, source='file:///c:/Users/marcospp/Documents/MarcosPaulo/Estudos/MLOps-Zoomcamp/02-experiment-tracking/mlruns/1/3bcfa63a5c164e5da6e8a9c98b327ee4/artifacts/model', status='READY', status_message=None, tags={}, user_id=None, version=3>"
      ]
     },
     "execution_count": 41,
     "metadata": {},
     "output_type": "execute_result"
    }
   ],
   "source": [
    "client.update_model_version(\n",
    "    name=model_name,\n",
    "    version=model_version,\n",
    "    description=f'The model version {model_version} was transitioned to {new_stage} on {datetime.today()}'\n",
    ")"
   ]
  },
  {
   "cell_type": "code",
   "execution_count": 43,
   "metadata": {},
   "outputs": [],
   "source": []
  },
  {
   "cell_type": "code",
   "execution_count": 46,
   "metadata": {},
   "outputs": [],
   "source": [
    "def read_dataframe(filename: str) -> pd.DataFrame:\n",
    "    df = pd.read_parquet(filename)\n",
    "    \n",
    "    df['duration'] = df.tpep_dropoff_datetime - df.tpep_pickup_datetime\n",
    "    df.duration = df.duration.apply(lambda duration: duration.total_seconds() / 60)\n",
    "\n",
    "    df = df[(df.duration >= 1) & (df.duration <= 60)]\n",
    "\n",
    "    categorical = ['PULocationID', 'DOLocationID']\n",
    "    numerical = ['trip_distance']\n",
    "\n",
    "    df[categorical] = df[categorical].astype(str)\n",
    "\n",
    "    return df\n",
    "\n",
    "def preprocess(df, dv):\n",
    "    df['PU_DO'] = df['PULocationID'] + '_' + df['DOLocationID']\n",
    "    categorical = ['PU_DO']\n",
    "    numerical = ['trip_distance']\n",
    "    train_dicts = df[categorical + numerical].to_dict(orient='records')\n",
    "    return dv.transform(train_dicts)\n",
    "\n",
    "def test_model(name, stage, X_test, y_test):\n",
    "    model = mlflow.pyfunc.load_model(f\"models:/{name}/{stage}\")\n",
    "    y_pred = model.predict(X_test)\n",
    "    return {\"rmse\": mean_squared_error(y_test, y_pred, squared=False)}"
   ]
  },
  {
   "cell_type": "code",
   "execution_count": 48,
   "metadata": {},
   "outputs": [],
   "source": [
    "df = read_dataframe('../data/yellow_tripdata_2022-03.parquet')"
   ]
  },
  {
   "cell_type": "code",
   "execution_count": 50,
   "metadata": {},
   "outputs": [
    {
     "name": "stderr",
     "output_type": "stream",
     "text": [
      "C:\\Users\\marcospp\\AppData\\Local\\Temp\\ipykernel_21436\\2416048697.py:2: FutureWarning: ``mlflow.tracking.client.MlflowClient.download_artifacts`` is deprecated since 2.0. This method will be removed in a future release. Use ``mlflow.artifacts.download_artifacts`` instead.\n",
      "  client.download_artifacts(run_id=run_id, path='preprocessor', dst_path='.')\n"
     ]
    },
    {
     "data": {
      "text/plain": [
       "'C:\\\\Users\\\\marcospp\\\\Documents\\\\MarcosPaulo\\\\Estudos\\\\MLOps-Zoomcamp\\\\02-experiment-tracking\\\\preprocessor'"
      ]
     },
     "execution_count": 50,
     "metadata": {},
     "output_type": "execute_result"
    }
   ],
   "source": [
    "# Download artifact\n",
    "run_id='27c14687bceb401bad73fc5d2085d735'\n",
    "client.download_artifacts(run_id=run_id, path='preprocessor', dst_path='.')"
   ]
  },
  {
   "cell_type": "code",
   "execution_count": 52,
   "metadata": {},
   "outputs": [],
   "source": [
    "with open('preprocessor/preprocessor.b', 'rb') as f_in:\n",
    "    dv = pickle.load(f_in)"
   ]
  },
  {
   "cell_type": "code",
   "execution_count": 53,
   "metadata": {},
   "outputs": [],
   "source": [
    "X_test = preprocess(df, dv)"
   ]
  },
  {
   "cell_type": "code",
   "execution_count": 54,
   "metadata": {},
   "outputs": [],
   "source": [
    "target = 'duration'\n",
    "y_test = df[target].values"
   ]
  },
  {
   "cell_type": "code",
   "execution_count": 55,
   "metadata": {},
   "outputs": [
    {
     "name": "stderr",
     "output_type": "stream",
     "text": [
      "2023/05/26 16:51:00 WARNING mlflow.pyfunc: Detected one or more mismatches between the model's dependencies and the current Python environment:\n",
      " - mlflow (current: 2.3.2, required: mlflow==2.3)\n",
      "To fix the mismatches, call `mlflow.pyfunc.get_model_dependencies(model_uri)` to fetch the model's environment and install dependencies using the resulting environment file.\n"
     ]
    },
    {
     "name": "stdout",
     "output_type": "stream",
     "text": [
      "[16:51:00] WARNING: C:\\buildkite-agent\\builds\\buildkite-windows-cpu-autoscaling-group-i-07593ffd91cd9da33-1\\xgboost\\xgboost-ci-windows\\src\\objective\\regression_obj.cu:213: reg:linear is now deprecated in favor of reg:squarederror.\n",
      "CPU times: total: 7min 34s\n",
      "Wall time: 1min 7s\n"
     ]
    },
    {
     "data": {
      "text/plain": [
       "{'rmse': 5.037930337985029}"
      ]
     },
     "execution_count": 55,
     "metadata": {},
     "output_type": "execute_result"
    }
   ],
   "source": [
    "%time test_model(name=model_name, stage='Production', X_test=X_test, y_test=y_test)"
   ]
  },
  {
   "cell_type": "code",
   "execution_count": 61,
   "metadata": {},
   "outputs": [
    {
     "name": "stderr",
     "output_type": "stream",
     "text": [
      "2023/05/26 17:01:57 WARNING mlflow.pyfunc: Detected one or more mismatches between the model's dependencies and the current Python environment:\n",
      " - mlflow (current: 2.3.2, required: mlflow==2.3)\n",
      "To fix the mismatches, call `mlflow.pyfunc.get_model_dependencies(model_uri)` to fetch the model's environment and install dependencies using the resulting environment file.\n"
     ]
    },
    {
     "name": "stdout",
     "output_type": "stream",
     "text": [
      "[17:01:58] WARNING: C:\\buildkite-agent\\builds\\buildkite-windows-cpu-autoscaling-group-i-07593ffd91cd9da33-1\\xgboost\\xgboost-ci-windows\\src\\objective\\regression_obj.cu:213: reg:linear is now deprecated in favor of reg:squarederror.\n",
      "CPU times: total: 3min 1s\n",
      "Wall time: 24 s\n"
     ]
    },
    {
     "data": {
      "text/plain": [
       "{'rmse': 5.408967941450919}"
      ]
     },
     "execution_count": 61,
     "metadata": {},
     "output_type": "execute_result"
    }
   ],
   "source": [
    "%time test_model(name=model_name, stage='Staging', X_test=X_test, y_test=y_test)"
   ]
  },
  {
   "cell_type": "code",
   "execution_count": 63,
   "metadata": {},
   "outputs": [
    {
     "data": {
      "text/plain": [
       "<ModelVersion: aliases=[], creation_timestamp=1684944978027, current_stage='Production', description='\\n', last_updated_timestamp=1685117129555, name='nyc-taxi-regressor', run_id='27c14687bceb401bad73fc5d2085d735', run_link='', source='file:///c:/Users/marcospp/Documents/MarcosPaulo/Estudos/MLOps-Zoomcamp/02-experiment-tracking/mlruns/1/27c14687bceb401bad73fc5d2085d735/artifacts/models_mlflow', status='READY', status_message=None, tags={'model': 'xgboost-regressor'}, user_id=None, version=2>"
      ]
     },
     "execution_count": 63,
     "metadata": {},
     "output_type": "execute_result"
    }
   ],
   "source": [
    "# Simulando transição de stage\n",
    "client.transition_model_version_stage(\n",
    "    name=model_name,\n",
    "    version=2,\n",
    "    stage='Production',\n",
    "    archive_existing_versions=True,\n",
    ")"
   ]
  },
  {
   "cell_type": "code",
   "execution_count": null,
   "metadata": {},
   "outputs": [],
   "source": []
  }
 ],
 "metadata": {
  "kernelspec": {
   "display_name": "Python 3 (ipykernel)",
   "language": "python",
   "name": "python3"
  },
  "language_info": {
   "codemirror_mode": {
    "name": "ipython",
    "version": 3
   },
   "file_extension": ".py",
   "mimetype": "text/x-python",
   "name": "python",
   "nbconvert_exporter": "python",
   "pygments_lexer": "ipython3",
   "version": "3.11.0"
  }
 },
 "nbformat": 4,
 "nbformat_minor": 2
}
